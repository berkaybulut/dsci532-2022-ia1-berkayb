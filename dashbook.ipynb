{
 "cells": [
  {
   "cell_type": "code",
   "execution_count": 41,
   "id": "5a9dcd8d-9e30-4612-ba38-d92cd4768de9",
   "metadata": {},
   "outputs": [
    {
     "data": {
      "text/html": [
       "\n",
       "        <iframe\n",
       "            width=\"100%\"\n",
       "            height=\"650\"\n",
       "            src=\"http://127.0.0.1:8050/\"\n",
       "            frameborder=\"0\"\n",
       "            allowfullscreen\n",
       "            \n",
       "        ></iframe>\n",
       "        "
      ],
      "text/plain": [
       "<IPython.lib.display.IFrame at 0x1374492b0>"
      ]
     },
     "metadata": {},
     "output_type": "display_data"
    }
   ],
   "source": [
    "import plotly.express as px\n",
    "from jupyter_dash import JupyterDash\n",
    "import dash_core_components as dcc\n",
    "import dash_html_components as html\n",
    "from dash.dependencies import Input, Output\n",
    "from vega_datasets import data\n",
    "\n",
    "    \n",
    "plot_data = data.disasters()\n",
    "\n",
    "def plot_altair(xmin,xmax):\n",
    "    chart = alt.Chart(plot_data[plot_data['Year'].between(xmin, xmax)]).mark_line().encode(\n",
    "        x=alt.X('Year'),\n",
    "        y='Deaths')\n",
    "    return chart.to_html()\n",
    "\n",
    "#app = Dash(__name__, external_stylesheets=['https://codepen.io/chriddyp/pen/bWLwgP.css'])\n",
    "app = JupyterDash(__name__)\n",
    "app.layout = html.Div([\n",
    "        html.Iframe(\n",
    "            id='line',\n",
    "            srcDoc=plot_altair(xmin=1901, xmax=2017),\n",
    "            style={'border-width': '0', 'width': '100%', 'height': '400px'})\n",
    "        ])\n",
    "        \n",
    "@app.callback(\n",
    "    Output('line', 'srcDoc'),\n",
    "    )\n",
    "def update_output(xmin, xmax):\n",
    "    return plot_altair(xmin, xmax)\n",
    "\n",
    "del app.config._read_only[\"requests_pathname_prefix\"]\n",
    "app.run_server(mode='inline')"
   ]
  },
  {
   "cell_type": "code",
   "execution_count": 16,
   "id": "774bbf95-a686-4330-a6e5-20ae71b91e84",
   "metadata": {},
   "outputs": [
    {
     "data": {
      "text/html": [
       "\n",
       "        <iframe\n",
       "            width=\"100%\"\n",
       "            height=\"650\"\n",
       "            src=\"http://127.0.0.1:8050/\"\n",
       "            frameborder=\"0\"\n",
       "            allowfullscreen\n",
       "            \n",
       "        ></iframe>\n",
       "        "
      ],
      "text/plain": [
       "<IPython.lib.display.IFrame at 0x1371b0100>"
      ]
     },
     "metadata": {},
     "output_type": "display_data"
    }
   ],
   "source": [
    "from dash import Dash, html, dcc, Input, Output\n",
    "import altair as alt\n",
    "from vega_datasets import data\n",
    "\n",
    "\n",
    "plot_data = data.disasters()\n",
    "\n",
    "def plot_altair(xmin,xmax):\n",
    "    chart = alt.Chart(plot_data[plot_data['Year'].between(xmin,xmax)]).mark_line().encode(\n",
    "        x=alt.X('Year'),\n",
    "        y='Deaths')\n",
    "    return chart.to_html()\n",
    "\n",
    "app = Dash(__name__, external_stylesheets=['https://codepen.io/chriddyp/pen/bWLwgP.css'])\n",
    "\n",
    "server = app.server\n",
    "\n",
    "app.layout = html.Div([\n",
    "        html.Iframe(\n",
    "            id='line',\n",
    "            srcDoc=plot_altair(xmin=1901, xmax=2017),\n",
    "            style={'border-width': '0', 'width': '100%', 'height': '400px'})\n",
    "        ])\n",
    "        \n",
    "@app.callback(\n",
    "    Output('line', 'srcDoc'),\n",
    "    )\n",
    "def update_output(xmin,xmax):\n",
    "    return plot_altair(xmin,xmax)\n",
    "\n",
    "if __name__ == '__main__':\n",
    "    app.run_server(debug=True)"
   ]
  },
  {
   "cell_type": "code",
   "execution_count": 24,
   "id": "4cfe288c-efdd-440b-a35d-b314e4f4c686",
   "metadata": {},
   "outputs": [
    {
     "data": {
      "text/plain": [
       "2017"
      ]
     },
     "execution_count": 24,
     "metadata": {},
     "output_type": "execute_result"
    }
   ],
   "source": [
    "plot_data.Year.max()"
   ]
  },
  {
   "cell_type": "code",
   "execution_count": null,
   "id": "e797fb15-b0de-4d7c-97d2-8f7af032cc25",
   "metadata": {},
   "outputs": [],
   "source": []
  }
 ],
 "metadata": {
  "kernelspec": {
   "display_name": "Python 3.8.11 64-bit ('base': conda)",
   "language": "python",
   "name": "python3811jvsc74a57bd0d9c8f80aa4494caa1d8099b0db2b64d1b5e7b11327a743176c6050bd313a1b26"
  },
  "language_info": {
   "codemirror_mode": {
    "name": "ipython",
    "version": 3
   },
   "file_extension": ".py",
   "mimetype": "text/x-python",
   "name": "python",
   "nbconvert_exporter": "python",
   "pygments_lexer": "ipython3",
   "version": "3.8.11"
  }
 },
 "nbformat": 4,
 "nbformat_minor": 5
}
